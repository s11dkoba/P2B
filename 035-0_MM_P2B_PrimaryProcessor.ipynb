{
 "cells": [
  {
   "cell_type": "code",
   "execution_count": 3,
   "id": "0abe367e",
   "metadata": {},
   "outputs": [
    {
     "name": "stdout",
     "output_type": "stream",
     "text": [
      "Bid Rate: 0.0116\n",
      "Ask Rate: 0.0118\n",
      "Mid Rate: 0.0117\n"
     ]
    }
   ],
   "source": [
    "import requests, time, csv, os\n",
    "import configparser\n",
    "\n",
    "# config.ini ファイルを読み込む\n",
    "config = configparser.ConfigParser()\n",
    "config.read('config.ini')\n",
    "\n",
    "# 1inch API情報\n",
    "API_KEY_1INCH = config.get('1inch', 'api_key')\n",
    "TOKEN_ADDRESS = \"0xd88ca08d8eec1e9e09562213ae83a7853ebb5d28\"  # XWIN(BEP20)\n",
    "USDT_ADDRESS = \"0x55d398326f99059ff775485246999027b3197955\"\n",
    "AMOUNT = 5000\n",
    "\n",
    "def get_quote(src, dst, amount, api_key):\n",
    "    response = requests.get(\n",
    "        \"https://api.1inch.dev/swap/v6.0/56/quote\",\n",
    "        headers={\"Authorization\": f\"Bearer {api_key}\"},\n",
    "        params={\"src\": src, \"dst\": dst, \"amount\": amount}\n",
    "    )\n",
    "    return response.json() if response.status_code == 200 else None\n",
    "\n",
    "def calculate_rates(token_address, usdt_address, amount, api_key):\n",
    "    quote = get_quote(token_address, usdt_address, amount, api_key)\n",
    "    if not quote:\n",
    "        print(\"Failed to get quote for token to USDT.\")\n",
    "        return None\n",
    "\n",
    "    USDT_num = int(quote['dstAmount'])\n",
    "    rate_token_to_usdt = round(USDT_num / amount, 4)\n",
    "    print(f\"Bid Rate: {rate_token_to_usdt:.4f}\")\n",
    "    time.sleep(1.1)\n",
    "\n",
    "    quote = get_quote(usdt_address, token_address, USDT_num, api_key)\n",
    "    if not quote:\n",
    "        print(\"Failed to get quote for USDT to token.\")\n",
    "        return None\n",
    "\n",
    "    XWIN_num = float(quote['dstAmount'])\n",
    "    rate_usdt_to_token = round(USDT_num / XWIN_num, 4)\n",
    "    print(f\"Ask Rate: {rate_usdt_to_token:.4f}\")\n",
    "    mid_rate = round((rate_token_to_usdt + rate_usdt_to_token) / 2, 4)\n",
    "\n",
    "    return mid_rate\n",
    "\n",
    "mid_rate = calculate_rates(TOKEN_ADDRESS, USDT_ADDRESS, AMOUNT, API_KEY_1INCH)\n",
    "if mid_rate:\n",
    "    file_path = r'C:\\Users\\Administrator\\xwin.csv'\n",
    "    if os.path.isfile(file_path):\n",
    "        print(f\"The file '{file_path}' exists.\")\n",
    "    else:\n",
    "        file_path = r'xwin.csv'\n",
    "    with open(file_path, mode='w', newline='') as file:\n",
    "        writer = csv.writer(file)\n",
    "        writer.writerow([\"Mid_Rate\"])\n",
    "        writer.writerow([mid_rate])\n",
    "    print(f\"Mid Rate: {mid_rate:.4f}\")\n",
    "else:\n",
    "    print(\"No sufficient data to calculate.\")\n"
   ]
  },
  {
   "cell_type": "code",
   "execution_count": null,
   "id": "2ecf3fd1",
   "metadata": {},
   "outputs": [],
   "source": []
  }
 ],
 "metadata": {
  "kernelspec": {
   "display_name": "Python 3 (ipykernel)",
   "language": "python",
   "name": "python3"
  },
  "language_info": {
   "codemirror_mode": {
    "name": "ipython",
    "version": 3
   },
   "file_extension": ".py",
   "mimetype": "text/x-python",
   "name": "python",
   "nbconvert_exporter": "python",
   "pygments_lexer": "ipython3",
   "version": "3.9.12"
  },
  "toc": {
   "base_numbering": 1,
   "nav_menu": {},
   "number_sections": true,
   "sideBar": true,
   "skip_h1_title": false,
   "title_cell": "Table of Contents",
   "title_sidebar": "Contents",
   "toc_cell": false,
   "toc_position": {},
   "toc_section_display": true,
   "toc_window_display": false
  }
 },
 "nbformat": 4,
 "nbformat_minor": 5
}
